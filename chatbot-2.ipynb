{
  "nbformat": 4,
  "nbformat_minor": 0,
  "metadata": {
    "colab": {
      "provenance": []
    },
    "kernelspec": {
      "name": "python3",
      "display_name": "Python 3"
    },
    "language_info": {
      "name": "python"
    }
  },
  "cells": [
    {
      "cell_type": "code",
      "source": [
        "x =input(\"Enter text:\")"
      ],
      "metadata": {
        "colab": {
          "base_uri": "https://localhost:8080/"
        },
        "id": "naj6RSf4uV9z",
        "outputId": "eedb16e1-0350-4e7b-d39e-e36bf9900674"
      },
      "execution_count": null,
      "outputs": [
        {
          "name": "stdout",
          "output_type": "stream",
          "text": [
            "Enter text:adcc\n"
          ]
        }
      ]
    },
    {
      "cell_type": "code",
      "source": [
        "def lowercase(sentence):\n",
        "  return sentence.lower()"
      ],
      "metadata": {
        "id": "m3cUQ_bzyASi"
      },
      "execution_count": null,
      "outputs": []
    },
    {
      "cell_type": "code",
      "source": [
        "def uppercase(sentence):\n",
        "  return sentence.upper()"
      ],
      "metadata": {
        "id": "ASajoe-5yKhI"
      },
      "execution_count": null,
      "outputs": []
    },
    {
      "cell_type": "code",
      "source": [
        "x = input('enter text: ')\n",
        "end_words = ['stop','exit']\n",
        "while x not in end_words:\n",
        "  choice = input('enter 1 or 2: ')\n",
        "  if choice == '1':\n",
        "    print(lowercase(x))\n",
        "  elif choice == '2':\n",
        "    print(uppercase(x))\n",
        "  else:\n",
        "    print('invalid choice')\n",
        "  x = input('enter text: ')"
      ],
      "metadata": {
        "colab": {
          "base_uri": "https://localhost:8080/"
        },
        "id": "HqG1nAL7yd55",
        "outputId": "41370167-93c6-477e-e218-ad7d0f927655"
      },
      "execution_count": null,
      "outputs": [
        {
          "name": "stdout",
          "output_type": "stream",
          "text": [
            "enter text: SOnAM\n",
            "enter 1 or 2: 1\n",
            "sonam\n",
            "enter text: 2\n",
            "enter 1 or 2: 2\n",
            "2\n",
            "enter text: ENTER some text Bro\n",
            "enter 1 or 2: 2\n",
            "ENTER SOME TEXT BRO\n",
            "enter text: stop\n"
          ]
        }
      ]
    },
    {
      "cell_type": "code",
      "source": [],
      "metadata": {
        "id": "gfXUxiVizHXA"
      },
      "execution_count": null,
      "outputs": []
    }
  ]
}